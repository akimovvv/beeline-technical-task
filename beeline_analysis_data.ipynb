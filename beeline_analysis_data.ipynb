{
 "cells": [
  {
   "cell_type": "markdown",
   "id": "94760587",
   "metadata": {},
   "source": [
    "## Data description\n",
    "\n",
    "Your task is to train a model, which will predict churn status of a user.\n",
    "\n",
    "### Details\n",
    "- You can implement any steps that you think are necessary in this problem\n",
    "- You can use any model of your choice\n",
    "- You need to validate accuracy of the model. You can use any validation technique of your choice. The simplest option is to divide initial data on train and test sets, where train one is used just for fitting of a model and test one - for checking accuracy of a fitted model.\n",
    "\n",
    "### Attribute information\n",
    "- Call Failures - number of call failures\n",
    "- Complains - binary (0: no complains, 1: 1 complaint or more)\n",
    "- Subscription Length - total months of subscription\n",
    "- Charge Amount: ordinal attribute (0: lowest amount, 9: highest amount)\n",
    "- Seconds of Use: total seconds of calls\n",
    "- Frequency of use: total number of calls\n",
    "- Frequency of SMS: total number of text messages\n",
    "- Distinct Called Numbers: total number of distinct phone calls\\\n",
    "This column is not exist - **Age Group**: ordinal attribute, age group user belongs to\\\n",
    "This column is not exist - **Tariff Plan Type**: binary (pay as you go, contractual), type of user's mobile plan\\\n",
    "- Churn: binary (1: churn, 0: non-churn) - Class label"
   ]
  },
  {
   "cell_type": "code",
   "execution_count": 1,
   "id": "ff63fa41",
   "metadata": {},
   "outputs": [],
   "source": [
    "import pandas as pd\n",
    "import numpy as np\n",
    "from matplotlib import pyplot as plt"
   ]
  },
  {
   "cell_type": "code",
   "execution_count": 2,
   "id": "8b3081b4",
   "metadata": {},
   "outputs": [
    {
     "data": {
      "text/html": [
       "<div>\n",
       "<style scoped>\n",
       "    .dataframe tbody tr th:only-of-type {\n",
       "        vertical-align: middle;\n",
       "    }\n",
       "\n",
       "    .dataframe tbody tr th {\n",
       "        vertical-align: top;\n",
       "    }\n",
       "\n",
       "    .dataframe thead th {\n",
       "        text-align: right;\n",
       "    }\n",
       "</style>\n",
       "<table border=\"1\" class=\"dataframe\">\n",
       "  <thead>\n",
       "    <tr style=\"text-align: right;\">\n",
       "      <th></th>\n",
       "      <th>Call Failure</th>\n",
       "      <th>Complains</th>\n",
       "      <th>Subscription Length</th>\n",
       "      <th>Charge Amount</th>\n",
       "      <th>Seconds of Use</th>\n",
       "      <th>Frequency of use</th>\n",
       "      <th>Frequency of SMS</th>\n",
       "      <th>Distinct Called Numbers</th>\n",
       "      <th>Churn</th>\n",
       "    </tr>\n",
       "  </thead>\n",
       "  <tbody>\n",
       "    <tr>\n",
       "      <th>0</th>\n",
       "      <td>8.0</td>\n",
       "      <td>0.0</td>\n",
       "      <td>38.0</td>\n",
       "      <td>0</td>\n",
       "      <td>4370.0</td>\n",
       "      <td>71.0</td>\n",
       "      <td>5.0</td>\n",
       "      <td>17.0</td>\n",
       "      <td>0</td>\n",
       "    </tr>\n",
       "    <tr>\n",
       "      <th>1</th>\n",
       "      <td>0.0</td>\n",
       "      <td>0.0</td>\n",
       "      <td>NaN</td>\n",
       "      <td>0</td>\n",
       "      <td>318.0</td>\n",
       "      <td>5.0</td>\n",
       "      <td>7.0</td>\n",
       "      <td>4.0</td>\n",
       "      <td>0</td>\n",
       "    </tr>\n",
       "    <tr>\n",
       "      <th>2</th>\n",
       "      <td>10.0</td>\n",
       "      <td>0.0</td>\n",
       "      <td>37.0</td>\n",
       "      <td>0</td>\n",
       "      <td>2453.0</td>\n",
       "      <td>60.0</td>\n",
       "      <td>359.0</td>\n",
       "      <td>24.0</td>\n",
       "      <td>0</td>\n",
       "    </tr>\n",
       "    <tr>\n",
       "      <th>3</th>\n",
       "      <td>10.0</td>\n",
       "      <td>0.0</td>\n",
       "      <td>38.0</td>\n",
       "      <td>0</td>\n",
       "      <td>4198.0</td>\n",
       "      <td>66.0</td>\n",
       "      <td>NaN</td>\n",
       "      <td>35.0</td>\n",
       "      <td>0</td>\n",
       "    </tr>\n",
       "    <tr>\n",
       "      <th>4</th>\n",
       "      <td>3.0</td>\n",
       "      <td>0.0</td>\n",
       "      <td>38.0</td>\n",
       "      <td>0</td>\n",
       "      <td>NaN</td>\n",
       "      <td>58.0</td>\n",
       "      <td>NaN</td>\n",
       "      <td>33.0</td>\n",
       "      <td>0</td>\n",
       "    </tr>\n",
       "  </tbody>\n",
       "</table>\n",
       "</div>"
      ],
      "text/plain": [
       "   Call Failure  Complains  Subscription Length  Charge Amount  \\\n",
       "0           8.0        0.0                 38.0              0   \n",
       "1           0.0        0.0                  NaN              0   \n",
       "2          10.0        0.0                 37.0              0   \n",
       "3          10.0        0.0                 38.0              0   \n",
       "4           3.0        0.0                 38.0              0   \n",
       "\n",
       "   Seconds of Use  Frequency of use  Frequency of SMS  \\\n",
       "0          4370.0              71.0               5.0   \n",
       "1           318.0               5.0               7.0   \n",
       "2          2453.0              60.0             359.0   \n",
       "3          4198.0              66.0               NaN   \n",
       "4             NaN              58.0               NaN   \n",
       "\n",
       "   Distinct Called Numbers  Churn  \n",
       "0                     17.0      0  \n",
       "1                      4.0      0  \n",
       "2                     24.0      0  \n",
       "3                     35.0      0  \n",
       "4                     33.0      0  "
      ]
     },
     "execution_count": 2,
     "metadata": {},
     "output_type": "execute_result"
    }
   ],
   "source": [
    "df = pd.read_csv('technical_task_dataset.csv')\n",
    "df.head()"
   ]
  },
  {
   "cell_type": "code",
   "execution_count": 3,
   "id": "7621f35a",
   "metadata": {},
   "outputs": [
    {
     "name": "stdout",
     "output_type": "stream",
     "text": [
      "<class 'pandas.core.frame.DataFrame'>\n",
      "RangeIndex: 3150 entries, 0 to 3149\n",
      "Data columns (total 9 columns):\n",
      " #   Column                   Non-Null Count  Dtype  \n",
      "---  ------                   --------------  -----  \n",
      " 0   Call Failure             2524 non-null   float64\n",
      " 1   Complains                2558 non-null   float64\n",
      " 2   Subscription Length      2633 non-null   float64\n",
      " 3   Charge Amount            3150 non-null   int64  \n",
      " 4   Seconds of Use           2561 non-null   float64\n",
      " 5   Frequency of use         2479 non-null   float64\n",
      " 6   Frequency of SMS         2488 non-null   float64\n",
      " 7   Distinct Called Numbers  2514 non-null   float64\n",
      " 8   Churn                    3150 non-null   int64  \n",
      "dtypes: float64(7), int64(2)\n",
      "memory usage: 221.6 KB\n"
     ]
    }
   ],
   "source": [
    "df.info()"
   ]
  },
  {
   "cell_type": "code",
   "execution_count": 4,
   "id": "308b3642",
   "metadata": {},
   "outputs": [
    {
     "data": {
      "text/html": [
       "<div>\n",
       "<style scoped>\n",
       "    .dataframe tbody tr th:only-of-type {\n",
       "        vertical-align: middle;\n",
       "    }\n",
       "\n",
       "    .dataframe tbody tr th {\n",
       "        vertical-align: top;\n",
       "    }\n",
       "\n",
       "    .dataframe thead th {\n",
       "        text-align: right;\n",
       "    }\n",
       "</style>\n",
       "<table border=\"1\" class=\"dataframe\">\n",
       "  <thead>\n",
       "    <tr style=\"text-align: right;\">\n",
       "      <th></th>\n",
       "      <th>Call Failure</th>\n",
       "      <th>Complains</th>\n",
       "      <th>Subscription Length</th>\n",
       "      <th>Charge Amount</th>\n",
       "      <th>Seconds of Use</th>\n",
       "      <th>Frequency of use</th>\n",
       "      <th>Frequency of SMS</th>\n",
       "      <th>Distinct Called Numbers</th>\n",
       "      <th>Churn</th>\n",
       "    </tr>\n",
       "  </thead>\n",
       "  <tbody>\n",
       "    <tr>\n",
       "      <th>0</th>\n",
       "      <td>8.0</td>\n",
       "      <td>0.0</td>\n",
       "      <td>38.0</td>\n",
       "      <td>0</td>\n",
       "      <td>4370.0</td>\n",
       "      <td>71.0</td>\n",
       "      <td>5.0</td>\n",
       "      <td>17.0</td>\n",
       "      <td>0</td>\n",
       "    </tr>\n",
       "    <tr>\n",
       "      <th>2</th>\n",
       "      <td>10.0</td>\n",
       "      <td>0.0</td>\n",
       "      <td>37.0</td>\n",
       "      <td>0</td>\n",
       "      <td>2453.0</td>\n",
       "      <td>60.0</td>\n",
       "      <td>359.0</td>\n",
       "      <td>24.0</td>\n",
       "      <td>0</td>\n",
       "    </tr>\n",
       "    <tr>\n",
       "      <th>6</th>\n",
       "      <td>4.0</td>\n",
       "      <td>0.0</td>\n",
       "      <td>38.0</td>\n",
       "      <td>0</td>\n",
       "      <td>2360.0</td>\n",
       "      <td>39.0</td>\n",
       "      <td>285.0</td>\n",
       "      <td>18.0</td>\n",
       "      <td>0</td>\n",
       "    </tr>\n",
       "    <tr>\n",
       "      <th>20</th>\n",
       "      <td>7.0</td>\n",
       "      <td>0.0</td>\n",
       "      <td>37.0</td>\n",
       "      <td>1</td>\n",
       "      <td>11465.0</td>\n",
       "      <td>154.0</td>\n",
       "      <td>11.0</td>\n",
       "      <td>47.0</td>\n",
       "      <td>0</td>\n",
       "    </tr>\n",
       "    <tr>\n",
       "      <th>24</th>\n",
       "      <td>13.0</td>\n",
       "      <td>1.0</td>\n",
       "      <td>36.0</td>\n",
       "      <td>1</td>\n",
       "      <td>5818.0</td>\n",
       "      <td>98.0</td>\n",
       "      <td>26.0</td>\n",
       "      <td>24.0</td>\n",
       "      <td>1</td>\n",
       "    </tr>\n",
       "  </tbody>\n",
       "</table>\n",
       "</div>"
      ],
      "text/plain": [
       "    Call Failure  Complains  Subscription Length  Charge Amount  \\\n",
       "0            8.0        0.0                 38.0              0   \n",
       "2           10.0        0.0                 37.0              0   \n",
       "6            4.0        0.0                 38.0              0   \n",
       "20           7.0        0.0                 37.0              1   \n",
       "24          13.0        1.0                 36.0              1   \n",
       "\n",
       "    Seconds of Use  Frequency of use  Frequency of SMS  \\\n",
       "0           4370.0              71.0               5.0   \n",
       "2           2453.0              60.0             359.0   \n",
       "6           2360.0              39.0             285.0   \n",
       "20         11465.0             154.0              11.0   \n",
       "24          5818.0              98.0              26.0   \n",
       "\n",
       "    Distinct Called Numbers  Churn  \n",
       "0                      17.0      0  \n",
       "2                      24.0      0  \n",
       "6                      18.0      0  \n",
       "20                     47.0      0  \n",
       "24                     24.0      1  "
      ]
     },
     "execution_count": 4,
     "metadata": {},
     "output_type": "execute_result"
    }
   ],
   "source": [
    "data_analys_df = df.dropna()\n",
    "data_analys_df.head()"
   ]
  },
  {
   "cell_type": "code",
   "execution_count": 5,
   "id": "e72131b3",
   "metadata": {},
   "outputs": [
    {
     "name": "stdout",
     "output_type": "stream",
     "text": [
      "<class 'pandas.core.frame.DataFrame'>\n",
      "Int64Index: 706 entries, 0 to 3142\n",
      "Data columns (total 9 columns):\n",
      " #   Column                   Non-Null Count  Dtype  \n",
      "---  ------                   --------------  -----  \n",
      " 0   Call Failure             706 non-null    float64\n",
      " 1   Complains                706 non-null    float64\n",
      " 2   Subscription Length      706 non-null    float64\n",
      " 3   Charge Amount            706 non-null    int64  \n",
      " 4   Seconds of Use           706 non-null    float64\n",
      " 5   Frequency of use         706 non-null    float64\n",
      " 6   Frequency of SMS         706 non-null    float64\n",
      " 7   Distinct Called Numbers  706 non-null    float64\n",
      " 8   Churn                    706 non-null    int64  \n",
      "dtypes: float64(7), int64(2)\n",
      "memory usage: 55.2 KB\n"
     ]
    }
   ],
   "source": [
    "data_analys_df.info()"
   ]
  },
  {
   "cell_type": "code",
   "execution_count": 6,
   "id": "43079c93",
   "metadata": {},
   "outputs": [
    {
     "data": {
      "text/html": [
       "<div>\n",
       "<style scoped>\n",
       "    .dataframe tbody tr th:only-of-type {\n",
       "        vertical-align: middle;\n",
       "    }\n",
       "\n",
       "    .dataframe tbody tr th {\n",
       "        vertical-align: top;\n",
       "    }\n",
       "\n",
       "    .dataframe thead th {\n",
       "        text-align: right;\n",
       "    }\n",
       "</style>\n",
       "<table border=\"1\" class=\"dataframe\">\n",
       "  <thead>\n",
       "    <tr style=\"text-align: right;\">\n",
       "      <th></th>\n",
       "      <th>Call Failure</th>\n",
       "      <th>Complains</th>\n",
       "      <th>Subscription Length</th>\n",
       "      <th>Charge Amount</th>\n",
       "      <th>Seconds of Use</th>\n",
       "      <th>Frequency of use</th>\n",
       "      <th>Frequency of SMS</th>\n",
       "      <th>Distinct Called Numbers</th>\n",
       "      <th>Churn</th>\n",
       "    </tr>\n",
       "  </thead>\n",
       "  <tbody>\n",
       "    <tr>\n",
       "      <th>count</th>\n",
       "      <td>2524.000000</td>\n",
       "      <td>2558.000000</td>\n",
       "      <td>2633.000000</td>\n",
       "      <td>3150.000000</td>\n",
       "      <td>2561.000000</td>\n",
       "      <td>2479.000000</td>\n",
       "      <td>2488.000000</td>\n",
       "      <td>2514.000000</td>\n",
       "      <td>3150.000000</td>\n",
       "    </tr>\n",
       "    <tr>\n",
       "      <th>mean</th>\n",
       "      <td>7.731379</td>\n",
       "      <td>0.076622</td>\n",
       "      <td>32.499810</td>\n",
       "      <td>0.942857</td>\n",
       "      <td>4457.024209</td>\n",
       "      <td>69.052844</td>\n",
       "      <td>73.308682</td>\n",
       "      <td>23.361575</td>\n",
       "      <td>0.157143</td>\n",
       "    </tr>\n",
       "    <tr>\n",
       "      <th>std</th>\n",
       "      <td>7.286990</td>\n",
       "      <td>0.266043</td>\n",
       "      <td>8.540095</td>\n",
       "      <td>1.521072</td>\n",
       "      <td>4167.652501</td>\n",
       "      <td>56.910760</td>\n",
       "      <td>112.651426</td>\n",
       "      <td>17.275861</td>\n",
       "      <td>0.363993</td>\n",
       "    </tr>\n",
       "    <tr>\n",
       "      <th>min</th>\n",
       "      <td>0.000000</td>\n",
       "      <td>0.000000</td>\n",
       "      <td>3.000000</td>\n",
       "      <td>0.000000</td>\n",
       "      <td>0.000000</td>\n",
       "      <td>0.000000</td>\n",
       "      <td>0.000000</td>\n",
       "      <td>0.000000</td>\n",
       "      <td>0.000000</td>\n",
       "    </tr>\n",
       "    <tr>\n",
       "      <th>25%</th>\n",
       "      <td>1.000000</td>\n",
       "      <td>0.000000</td>\n",
       "      <td>29.000000</td>\n",
       "      <td>0.000000</td>\n",
       "      <td>1390.000000</td>\n",
       "      <td>27.000000</td>\n",
       "      <td>6.000000</td>\n",
       "      <td>10.000000</td>\n",
       "      <td>0.000000</td>\n",
       "    </tr>\n",
       "    <tr>\n",
       "      <th>50%</th>\n",
       "      <td>6.000000</td>\n",
       "      <td>0.000000</td>\n",
       "      <td>35.000000</td>\n",
       "      <td>0.000000</td>\n",
       "      <td>3018.000000</td>\n",
       "      <td>54.000000</td>\n",
       "      <td>21.000000</td>\n",
       "      <td>21.000000</td>\n",
       "      <td>0.000000</td>\n",
       "    </tr>\n",
       "    <tr>\n",
       "      <th>75%</th>\n",
       "      <td>12.000000</td>\n",
       "      <td>0.000000</td>\n",
       "      <td>38.000000</td>\n",
       "      <td>1.000000</td>\n",
       "      <td>6458.000000</td>\n",
       "      <td>94.000000</td>\n",
       "      <td>87.250000</td>\n",
       "      <td>33.000000</td>\n",
       "      <td>0.000000</td>\n",
       "    </tr>\n",
       "    <tr>\n",
       "      <th>max</th>\n",
       "      <td>36.000000</td>\n",
       "      <td>1.000000</td>\n",
       "      <td>47.000000</td>\n",
       "      <td>10.000000</td>\n",
       "      <td>17090.000000</td>\n",
       "      <td>255.000000</td>\n",
       "      <td>522.000000</td>\n",
       "      <td>97.000000</td>\n",
       "      <td>1.000000</td>\n",
       "    </tr>\n",
       "  </tbody>\n",
       "</table>\n",
       "</div>"
      ],
      "text/plain": [
       "       Call Failure    Complains  Subscription Length  Charge Amount  \\\n",
       "count   2524.000000  2558.000000          2633.000000    3150.000000   \n",
       "mean       7.731379     0.076622            32.499810       0.942857   \n",
       "std        7.286990     0.266043             8.540095       1.521072   \n",
       "min        0.000000     0.000000             3.000000       0.000000   \n",
       "25%        1.000000     0.000000            29.000000       0.000000   \n",
       "50%        6.000000     0.000000            35.000000       0.000000   \n",
       "75%       12.000000     0.000000            38.000000       1.000000   \n",
       "max       36.000000     1.000000            47.000000      10.000000   \n",
       "\n",
       "       Seconds of Use  Frequency of use  Frequency of SMS  \\\n",
       "count     2561.000000       2479.000000       2488.000000   \n",
       "mean      4457.024209         69.052844         73.308682   \n",
       "std       4167.652501         56.910760        112.651426   \n",
       "min          0.000000          0.000000          0.000000   \n",
       "25%       1390.000000         27.000000          6.000000   \n",
       "50%       3018.000000         54.000000         21.000000   \n",
       "75%       6458.000000         94.000000         87.250000   \n",
       "max      17090.000000        255.000000        522.000000   \n",
       "\n",
       "       Distinct Called Numbers        Churn  \n",
       "count              2514.000000  3150.000000  \n",
       "mean                 23.361575     0.157143  \n",
       "std                  17.275861     0.363993  \n",
       "min                   0.000000     0.000000  \n",
       "25%                  10.000000     0.000000  \n",
       "50%                  21.000000     0.000000  \n",
       "75%                  33.000000     0.000000  \n",
       "max                  97.000000     1.000000  "
      ]
     },
     "execution_count": 6,
     "metadata": {},
     "output_type": "execute_result"
    }
   ],
   "source": [
    "df.describe()"
   ]
  },
  {
   "cell_type": "code",
   "execution_count": 7,
   "id": "00e2c3c5",
   "metadata": {},
   "outputs": [
    {
     "data": {
      "text/html": [
       "<div>\n",
       "<style scoped>\n",
       "    .dataframe tbody tr th:only-of-type {\n",
       "        vertical-align: middle;\n",
       "    }\n",
       "\n",
       "    .dataframe tbody tr th {\n",
       "        vertical-align: top;\n",
       "    }\n",
       "\n",
       "    .dataframe thead th {\n",
       "        text-align: right;\n",
       "    }\n",
       "</style>\n",
       "<table border=\"1\" class=\"dataframe\">\n",
       "  <thead>\n",
       "    <tr style=\"text-align: right;\">\n",
       "      <th></th>\n",
       "      <th>Call Failure</th>\n",
       "      <th>Complains</th>\n",
       "      <th>Subscription Length</th>\n",
       "      <th>Charge Amount</th>\n",
       "      <th>Seconds of Use</th>\n",
       "      <th>Frequency of use</th>\n",
       "      <th>Frequency of SMS</th>\n",
       "      <th>Distinct Called Numbers</th>\n",
       "      <th>Churn</th>\n",
       "    </tr>\n",
       "  </thead>\n",
       "  <tbody>\n",
       "    <tr>\n",
       "      <th>count</th>\n",
       "      <td>706.000000</td>\n",
       "      <td>706.000000</td>\n",
       "      <td>706.000000</td>\n",
       "      <td>706.000000</td>\n",
       "      <td>706.000000</td>\n",
       "      <td>706.000000</td>\n",
       "      <td>706.000000</td>\n",
       "      <td>706.000000</td>\n",
       "      <td>706.000000</td>\n",
       "    </tr>\n",
       "    <tr>\n",
       "      <th>mean</th>\n",
       "      <td>7.678470</td>\n",
       "      <td>0.069405</td>\n",
       "      <td>32.855524</td>\n",
       "      <td>0.885269</td>\n",
       "      <td>4282.563739</td>\n",
       "      <td>68.262040</td>\n",
       "      <td>74.912181</td>\n",
       "      <td>23.011331</td>\n",
       "      <td>0.169972</td>\n",
       "    </tr>\n",
       "    <tr>\n",
       "      <th>std</th>\n",
       "      <td>6.857001</td>\n",
       "      <td>0.254322</td>\n",
       "      <td>8.260928</td>\n",
       "      <td>1.351493</td>\n",
       "      <td>4009.338768</td>\n",
       "      <td>56.037102</td>\n",
       "      <td>118.570400</td>\n",
       "      <td>16.923018</td>\n",
       "      <td>0.375874</td>\n",
       "    </tr>\n",
       "    <tr>\n",
       "      <th>min</th>\n",
       "      <td>0.000000</td>\n",
       "      <td>0.000000</td>\n",
       "      <td>3.000000</td>\n",
       "      <td>0.000000</td>\n",
       "      <td>0.000000</td>\n",
       "      <td>0.000000</td>\n",
       "      <td>0.000000</td>\n",
       "      <td>0.000000</td>\n",
       "      <td>0.000000</td>\n",
       "    </tr>\n",
       "    <tr>\n",
       "      <th>25%</th>\n",
       "      <td>1.000000</td>\n",
       "      <td>0.000000</td>\n",
       "      <td>30.000000</td>\n",
       "      <td>0.000000</td>\n",
       "      <td>1360.750000</td>\n",
       "      <td>27.000000</td>\n",
       "      <td>7.000000</td>\n",
       "      <td>10.000000</td>\n",
       "      <td>0.000000</td>\n",
       "    </tr>\n",
       "    <tr>\n",
       "      <th>50%</th>\n",
       "      <td>7.000000</td>\n",
       "      <td>0.000000</td>\n",
       "      <td>35.000000</td>\n",
       "      <td>0.000000</td>\n",
       "      <td>3039.000000</td>\n",
       "      <td>52.500000</td>\n",
       "      <td>21.000000</td>\n",
       "      <td>21.000000</td>\n",
       "      <td>0.000000</td>\n",
       "    </tr>\n",
       "    <tr>\n",
       "      <th>75%</th>\n",
       "      <td>12.000000</td>\n",
       "      <td>0.000000</td>\n",
       "      <td>38.000000</td>\n",
       "      <td>1.000000</td>\n",
       "      <td>6298.000000</td>\n",
       "      <td>93.000000</td>\n",
       "      <td>81.750000</td>\n",
       "      <td>33.000000</td>\n",
       "      <td>0.000000</td>\n",
       "    </tr>\n",
       "    <tr>\n",
       "      <th>max</th>\n",
       "      <td>34.000000</td>\n",
       "      <td>1.000000</td>\n",
       "      <td>47.000000</td>\n",
       "      <td>10.000000</td>\n",
       "      <td>16980.000000</td>\n",
       "      <td>254.000000</td>\n",
       "      <td>498.000000</td>\n",
       "      <td>97.000000</td>\n",
       "      <td>1.000000</td>\n",
       "    </tr>\n",
       "  </tbody>\n",
       "</table>\n",
       "</div>"
      ],
      "text/plain": [
       "       Call Failure   Complains  Subscription Length  Charge Amount  \\\n",
       "count    706.000000  706.000000           706.000000     706.000000   \n",
       "mean       7.678470    0.069405            32.855524       0.885269   \n",
       "std        6.857001    0.254322             8.260928       1.351493   \n",
       "min        0.000000    0.000000             3.000000       0.000000   \n",
       "25%        1.000000    0.000000            30.000000       0.000000   \n",
       "50%        7.000000    0.000000            35.000000       0.000000   \n",
       "75%       12.000000    0.000000            38.000000       1.000000   \n",
       "max       34.000000    1.000000            47.000000      10.000000   \n",
       "\n",
       "       Seconds of Use  Frequency of use  Frequency of SMS  \\\n",
       "count      706.000000        706.000000        706.000000   \n",
       "mean      4282.563739         68.262040         74.912181   \n",
       "std       4009.338768         56.037102        118.570400   \n",
       "min          0.000000          0.000000          0.000000   \n",
       "25%       1360.750000         27.000000          7.000000   \n",
       "50%       3039.000000         52.500000         21.000000   \n",
       "75%       6298.000000         93.000000         81.750000   \n",
       "max      16980.000000        254.000000        498.000000   \n",
       "\n",
       "       Distinct Called Numbers       Churn  \n",
       "count               706.000000  706.000000  \n",
       "mean                 23.011331    0.169972  \n",
       "std                  16.923018    0.375874  \n",
       "min                   0.000000    0.000000  \n",
       "25%                  10.000000    0.000000  \n",
       "50%                  21.000000    0.000000  \n",
       "75%                  33.000000    0.000000  \n",
       "max                  97.000000    1.000000  "
      ]
     },
     "execution_count": 7,
     "metadata": {},
     "output_type": "execute_result"
    }
   ],
   "source": [
    "data_analys_df.describe()"
   ]
  },
  {
   "cell_type": "code",
   "execution_count": 8,
   "id": "0a57f45e",
   "metadata": {},
   "outputs": [],
   "source": [
    "new_df = df.copy()"
   ]
  },
  {
   "cell_type": "code",
   "execution_count": 9,
   "id": "cfaceeeb",
   "metadata": {},
   "outputs": [],
   "source": [
    "# new_df['Call Failure'] = new_df['Call Failure'].fillna(new_df['Call Failure'].median())\n",
    "# new_df['Charge Amount'] = new_df['Charge Amount'].fillna(new_df['Charge Amount'].mode())\n",
    "# new_df['Seconds of Use'] = new_df['Seconds of Use'].fillna(round(new_df['Seconds of Use'].median()))\n",
    "# new_df['Frequency of use'] = new_df['Frequency of use'].fillna(round(new_df['Frequency of use'].median()))\n",
    "# new_df['Frequency of SMS'] = new_df['Frequency of SMS'].fillna(round(new_df['Frequency of SMS'].median()))\n",
    "# new_df['Subscription Length'] = new_df['Subscription Length'].fillna(new_df['Subscription Length'].median())\n",
    "# new_df['Distinct Called Numbers'] = new_df['Distinct Called Numbers'].fillna(0.0)\n",
    "# new_df['Complains'] = new_df['Complains'].fillna(0.0)\n",
    "new_df['Call Failure'] = new_df['Call Failure'].fillna(round(new_df['Call Failure'].mean()))\n",
    "new_df['Charge Amount'] = new_df['Charge Amount'].fillna(new_df['Charge Amount'].mode())\n",
    "new_df['Seconds of Use'] = new_df['Seconds of Use'].fillna(round(new_df['Seconds of Use'].mean()))\n",
    "new_df['Frequency of use'] = new_df['Frequency of use'].fillna(round(new_df['Frequency of use'].mean()))\n",
    "new_df['Frequency of SMS'] = new_df['Frequency of SMS'].fillna(round(new_df['Frequency of SMS'].median()))\n",
    "new_df['Subscription Length'] = new_df['Subscription Length'].fillna(new_df['Subscription Length'].median())\n",
    "new_df['Distinct Called Numbers'] = new_df['Distinct Called Numbers'].fillna(0.0)\n",
    "new_df['Complains'] = new_df['Complains'].fillna(0.0)"
   ]
  },
  {
   "cell_type": "code",
   "execution_count": 10,
   "id": "b90ef3a3",
   "metadata": {},
   "outputs": [
    {
     "data": {
      "image/png": "[encoded data removed]",
      "text/plain": [
       "<Figure size 1332x756 with 3 Axes>"
      ]
     },
     "metadata": {
      "needs_background": "light"
     },
     "output_type": "display_data"
    }
   ],
   "source": [
    "fig, axs = plt.subplots(1, 3)\n",
    "axs[0].hist(data_analys_df['Call Failure'], bins = 20)\n",
    "axs[0].hist(data_analys_df['Call Failure'][data_analys_df['Churn'] == 1], bins = 20)\n",
    "axs[0].set_title('Call Failure droped None')\n",
    "axs[1].hist(df['Call Failure'], bins = 20)\n",
    "axs[1].hist(df['Call Failure'][df['Churn'] == 1], bins = 20)\n",
    "axs[1].set_title('Call Failure')\n",
    "axs[2].hist(new_df['Call Failure'], bins = 20)\n",
    "axs[2].hist(new_df['Call Failure'][new_df['Churn'] == 1], bins = 20)\n",
    "axs[2].set_title('Call Failure with filled in data')\n",
    "fig.set_size_inches(18.5, 10.5);"
   ]
  },
  {
   "cell_type": "code",
   "execution_count": 11,
   "id": "d1c8d14c",
   "metadata": {},
   "outputs": [
    {
     "data": {
      "image/png": "[encoded data removed]",
      "text/plain": [
       "<Figure size 1332x756 with 3 Axes>"
      ]
     },
     "metadata": {
      "needs_background": "light"
     },
     "output_type": "display_data"
    }
   ],
   "source": [
    "fig, axs = plt.subplots(1, 3)\n",
    "axs[0].hist(data_analys_df['Complains'], bins = 20)\n",
    "axs[0].hist(data_analys_df['Complains'][data_analys_df['Churn'] == 1], bins = 20)\n",
    "axs[0].set_title('Complains droped None')\n",
    "axs[1].hist(df['Complains'], bins = 20)\n",
    "axs[1].hist(df['Complains'][df['Churn'] == 1], bins = 20)\n",
    "axs[1].set_title('Complains')\n",
    "axs[2].hist(new_df['Complains'], bins = 20)\n",
    "axs[2].hist(new_df['Complains'][new_df['Churn'] == 1], bins = 20)\n",
    "axs[2].set_title('Complains with filled in data')\n",
    "fig.set_size_inches(18.5, 10.5);"
   ]
  },
  {
   "cell_type": "code",
   "execution_count": 12,
   "id": "c1a3eeaf",
   "metadata": {},
   "outputs": [
    {
     "data": {
      "image/png": "[encoded data removed]",
      "text/plain": [
       "<Figure size 1332x756 with 3 Axes>"
      ]
     },
     "metadata": {
      "needs_background": "light"
     },
     "output_type": "display_data"
    }
   ],
   "source": [
    "fig, axs = plt.subplots(1, 3)\n",
    "axs[0].hist(data_analys_df['Subscription Length'], bins = 30)\n",
    "axs[0].hist(data_analys_df['Subscription Length'][data_analys_df['Churn'] == 1], bins = 30)\n",
    "axs[0].set_title('Subscription Length droped None')\n",
    "axs[1].hist(df['Subscription Length'], bins = 20)\n",
    "axs[1].hist(df['Subscription Length'][df['Churn'] == 1], bins = 20)\n",
    "axs[1].set_title('Subscription Length')\n",
    "axs[2].hist(new_df['Subscription Length'], bins = 20)\n",
    "axs[2].hist(new_df['Subscription Length'][new_df['Churn'] == 1], bins = 20)\n",
    "axs[2].set_title('Subscription Length with filled in data')\n",
    "fig.set_size_inches(18.5, 10.5);"
   ]
  },
  {
   "cell_type": "code",
   "execution_count": 13,
   "id": "ece15537",
   "metadata": {},
   "outputs": [
    {
     "data": {
      "image/png": "[encoded data removed]",
      "text/plain": [
       "<Figure size 1332x756 with 3 Axes>"
      ]
     },
     "metadata": {
      "needs_background": "light"
     },
     "output_type": "display_data"
    }
   ],
   "source": [
    "fig, axs = plt.subplots(1, 3)\n",
    "axs[0].hist(data_analys_df['Charge Amount'], bins = 15)\n",
    "axs[0].hist(data_analys_df['Charge Amount'][data_analys_df['Churn'] == 1], bins = 15)\n",
    "axs[0].set_title('Charge Amount droped None')\n",
    "axs[1].hist(df['Charge Amount'], bins = 20)\n",
    "axs[1].hist(df['Charge Amount'][df['Churn'] == 1], bins = 20)\n",
    "axs[1].set_title('Charge Amount')\n",
    "axs[2].hist(new_df['Charge Amount'], bins = 20)\n",
    "axs[2].hist(new_df['Charge Amount'][new_df['Churn'] == 1], bins = 20)\n",
    "axs[2].set_title('Charge Amount with filled in data')\n",
    "fig.set_size_inches(18.5, 10.5);"
   ]
  },
  {
   "cell_type": "code",
   "execution_count": 14,
   "id": "d9675e5d",
   "metadata": {},
   "outputs": [
    {
     "data": {
      "image/png": "[encoded data removed]",
      "text/plain": [
       "<Figure size 1332x756 with 3 Axes>"
      ]
     },
     "metadata": {
      "needs_background": "light"
     },
     "output_type": "display_data"
    }
   ],
   "source": [
    "fig, axs = plt.subplots(1, 3)\n",
    "axs[0].hist(data_analys_df['Seconds of Use'], bins = 20)\n",
    "axs[0].hist(data_analys_df['Seconds of Use'][data_analys_df['Churn'] == 1], bins = 20)\n",
    "axs[0].set_title('Seconds of Use droped None')\n",
    "axs[1].hist(df['Seconds of Use'], bins = 20)\n",
    "axs[1].hist(df['Seconds of Use'][df['Churn'] == 1], bins = 20)\n",
    "axs[1].set_title('Seconds of Use')\n",
    "axs[2].hist(new_df['Seconds of Use'], bins = 20)\n",
    "axs[2].hist(new_df['Seconds of Use'][new_df['Churn'] == 1], bins = 20)\n",
    "axs[2].set_title('Seconds of Use with filled in data')\n",
    "fig.set_size_inches(18.5, 10.5);"
   ]
  },
  {
   "cell_type": "code",
   "execution_count": 15,
   "id": "96269dd5",
   "metadata": {},
   "outputs": [
    {
     "data": {
      "image/png": "[encoded data removed]",
      "text/plain": [
       "<Figure size 1332x756 with 3 Axes>"
      ]
     },
     "metadata": {
      "needs_background": "light"
     },
     "output_type": "display_data"
    }
   ],
   "source": [
    "fig, axs = plt.subplots(1, 3)\n",
    "axs[0].hist(data_analys_df['Frequency of use'], bins = 20)\n",
    "axs[0].hist(data_analys_df['Frequency of use'][data_analys_df['Churn'] == 1], bins = 20)\n",
    "axs[0].set_title('Frequency of use droped None')\n",
    "axs[1].hist(df['Frequency of use'], bins = 20)\n",
    "axs[1].hist(df['Frequency of use'][df['Churn'] == 1], bins = 20)\n",
    "axs[1].set_title('Frequency of use')\n",
    "axs[2].hist(new_df['Frequency of use'], bins = 20)\n",
    "axs[2].hist(new_df['Frequency of use'][new_df['Churn'] == 1], bins = 20)\n",
    "axs[2].set_title('Frequency of use with filled in data')\n",
    "fig.set_size_inches(18.5, 10.5);"
   ]
  },
  {
   "cell_type": "code",
   "execution_count": 16,
   "id": "071398be",
   "metadata": {
    "scrolled": true
   },
   "outputs": [
    {
     "data": {
      "image/png": "[encoded data removed]",
      "text/plain": [
       "<Figure size 1332x756 with 3 Axes>"
      ]
     },
     "metadata": {
      "needs_background": "light"
     },
     "output_type": "display_data"
    }
   ],
   "source": [
    "fig, axs = plt.subplots(1, 3)\n",
    "axs[0].hist(data_analys_df['Frequency of SMS'], bins = 15)\n",
    "axs[0].hist(data_analys_df['Frequency of SMS'][data_analys_df['Churn'] == 1], bins = 15)\n",
    "axs[0].set_title('Frequency of SMS droped None')\n",
    "axs[1].hist(df['Frequency of SMS'], bins = 20)\n",
    "axs[1].hist(df['Frequency of SMS'][df['Churn'] == 1], bins = 20)\n",
    "axs[1].set_title('Frequency of SMS')\n",
    "axs[2].hist(new_df['Frequency of SMS'], bins = 20)\n",
    "axs[2].hist(new_df['Frequency of SMS'][new_df['Churn'] == 1], bins = 20)\n",
    "axs[2].set_title('Frequency of SMS with filled in data')\n",
    "fig.set_size_inches(18.5, 10.5);"
   ]
  },
  {
   "cell_type": "code",
   "execution_count": 17,
   "id": "c7a7f091",
   "metadata": {},
   "outputs": [
    {
     "data": {
      "image/png": "[encoded data removed]",
      "text/plain": [
       "<Figure size 1332x756 with 3 Axes>"
      ]
     },
     "metadata": {
      "needs_background": "light"
     },
     "output_type": "display_data"
    }
   ],
   "source": [
    "fig, axs = plt.subplots(1, 3)\n",
    "axs[0].hist(data_analys_df['Distinct Called Numbers'], bins = 15)\n",
    "axs[0].hist(data_analys_df['Distinct Called Numbers'][data_analys_df['Churn'] == 1], bins = 15)\n",
    "axs[0].set_title('Distinct Called Numbers droped None')\n",
    "axs[1].hist(df['Distinct Called Numbers'], bins = 20)\n",
    "axs[1].hist(df['Distinct Called Numbers'][df['Churn'] == 1], bins = 20)\n",
    "axs[1].set_title('Distinct Called Numbers')\n",
    "axs[2].hist(new_df['Distinct Called Numbers'], bins = 20)\n",
    "axs[2].hist(new_df['Distinct Called Numbers'][new_df['Churn'] == 1], bins = 20)\n",
    "axs[2].set_title('Distinct Called Numbers with filled in data')\n",
    "fig.set_size_inches(18.5, 10.5);"
   ]
  },
  {
   "cell_type": "markdown",
   "id": "d6009eb7",
   "metadata": {},
   "source": [
    "На основе этих данных, могу сказать что отток среди новых пользователей высок, что логично потому-что большинство ушедших наверно пользовались другим оператором и скорее всего решили просто попробовать и перестают использовать по разным факторам.\n",
    "\n",
    "Меня больше превлекло отток клиентов с подпиской от 30 до 40 месяцев. В период их испльзования есть интересные факторы :) Более детально о моих доводах и гипотез могу рассказать на собеседовании )\n"
   ]
  }
 ],
 "metadata": {
  "kernelspec": {
   "display_name": "Python 3",
   "language": "python",
   "name": "python3"
  },
  "language_info": {
   "codemirror_mode": {
    "name": "ipython",
    "version": 3
   },
   "file_extension": ".py",
   "mimetype": "text/x-python",
   "name": "python",
   "nbconvert_exporter": "python",
   "pygments_lexer": "ipython3",
   "version": "3.8.8"
  }
 },
 "nbformat": 4,
 "nbformat_minor": 5
}
